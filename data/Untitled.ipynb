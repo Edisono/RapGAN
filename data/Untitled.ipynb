{
 "cells": [
  {
   "cell_type": "code",
   "execution_count": 64,
   "metadata": {
    "collapsed": false
   },
   "outputs": [],
   "source": [
    "from tensorflow.keras.preprocessing.text import Tokenizer\n",
    "from tensorflow.keras.preprocessing.sequence import pad_sequences\n",
    "import numpy as np\n",
    "import jieba\n",
    "\n",
    "total = []\n",
    "x = []\n",
    "y = []\n",
    "\n",
    "def write2file(file_name, array):\n",
    "    with open(file_name, \"w\") as f:\n",
    "        for i in array:\n",
    "            for e in i:\n",
    "                f.write(e)\n",
    "        \n",
    "with open(\"sources.txt\", \"r\") as f:\n",
    "    for i in f:\n",
    "        seg_list = jieba.cut(i)\n",
    "        total.append([e for e in seg_list])\n",
    "        x.append([e for e in seg_list])\n",
    "        x_array = np.asarray(x)\n",
    "        \n",
    "write2file(\"x.txt\",total)\n",
    "\n",
    "\n",
    "total = []\n",
    "with open(\"targets.txt\", \"r\") as f:\n",
    "    for i in f:\n",
    "        seg_list = jieba.cut(i)\n",
    "        total.append([e for e in seg_list])\n",
    "        y.append([e for e in seg_list])\n",
    "        \n",
    "        \n",
    "write2file(\"y.txt\",total)"
   ]
  },
  {
   "cell_type": "code",
   "execution_count": 65,
   "metadata": {
    "collapsed": false
   },
   "outputs": [],
   "source": [
    "x = []\n",
    "with open(\"x.txt\", \"r\") as f:\n",
    "    for i in f:\n",
    "        x.append(i)\n",
    "        \n",
    "y=[]\n",
    "with open(\"y.txt\", \"r\") as f:\n",
    "    for i in f:\n",
    "        y.append(i)\n",
    "        \n"
   ]
  },
  {
   "cell_type": "code",
   "execution_count": 67,
   "metadata": {
    "collapsed": true
   },
   "outputs": [],
   "source": [
    "def write2file(file_name, array):\n",
    "    with open(file_name, \"w\") as f:\n",
    "        for i in array:\n",
    "            for e in i:\n",
    "                f.write(e)\n",
    "x1=x[0:4000]\n",
    "y1=y[0:4000]\n",
    "write2file(\"test_x.txt\",x1)\n",
    "write2file(\"test_y.txt\",y1)\n"
   ]
  },
  {
   "cell_type": "code",
   "execution_count": 68,
   "metadata": {
    "collapsed": true
   },
   "outputs": [],
   "source": [
    "x1=x[4000:8000]\n",
    "y1=y[4000:8000]\n",
    "write2file(\"dev_x.txt\",x1)\n",
    "write2file(\"dev_y.txt\",y1)"
   ]
  },
  {
   "cell_type": "code",
   "execution_count": null,
   "metadata": {
    "collapsed": true
   },
   "outputs": [],
   "source": []
  },
  {
   "cell_type": "code",
   "execution_count": 61,
   "metadata": {
    "collapsed": false
   },
   "outputs": [
    {
     "name": "stdout",
     "output_type": "stream",
     "text": [
      "37552\n",
      "37552\n"
     ]
    }
   ],
   "source": [
    "x_array = np.asarray(x)\n",
    "y_array = np.asarray(y)\n",
    "print(len(x_array))\n",
    "print(len(y_array))"
   ]
  },
  {
   "cell_type": "code",
   "execution_count": 62,
   "metadata": {
    "collapsed": false
   },
   "outputs": [
    {
     "name": "stdout",
     "output_type": "stream",
     "text": [
      "[' 不是 因为 外貌 \\n' ' 我 拼了命 的 保护 她们 baby \\n']\n",
      "[' 而是 因为 我们 的 记忆 \\n' ' 像 这首 写给 迷妹 的 诗   wow \\n']\n"
     ]
    }
   ],
   "source": [
    "perm = np.random.permutation(len(x_array))\n",
    "\n",
    "x_shuffled = x_array[perm]\n",
    "y_shuffled = y_array[perm]\n",
    "np.random.seed(88)\n",
    "\n",
    "print(x_shuffled[:2])\n",
    "print(y_shuffled[:2])"
   ]
  },
  {
   "cell_type": "code",
   "execution_count": null,
   "metadata": {
    "collapsed": true
   },
   "outputs": [],
   "source": [
    "\n",
    "test_x = x_shuffled[:1000]\n",
    "test_y = y_shuffled[:1000]\n",
    "\n",
    "# print(test_x[:2])\n",
    "# print(test_y[:2])\n",
    "#\n",
    "dev_x = x_shuffled[1000:2000]\n",
    "dev_y = y_shuffled[1000:2000]\n",
    "# print(dev_x[:2])\n",
    "# print(dev_y[:2])\n",
    "#\n",
    "train_x = x_shuffled[2000:]\n",
    "train_y = y_shuffled[2000:]\n",
    "\n"
   ]
  }
 ],
 "metadata": {
  "kernelspec": {
   "display_name": "Python 3",
   "language": "python",
   "name": "python3"
  },
  "language_info": {
   "codemirror_mode": {
    "name": "ipython",
    "version": 3
   },
   "file_extension": ".py",
   "mimetype": "text/x-python",
   "name": "python",
   "nbconvert_exporter": "python",
   "pygments_lexer": "ipython3",
   "version": "3.6.0"
  }
 },
 "nbformat": 4,
 "nbformat_minor": 2
}
